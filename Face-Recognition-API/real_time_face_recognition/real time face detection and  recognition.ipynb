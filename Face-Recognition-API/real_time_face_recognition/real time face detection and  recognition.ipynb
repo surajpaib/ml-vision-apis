{
 "cells": [
  {
   "cell_type": "markdown",
   "metadata": {},
   "source": [
    "# This script obtaining frames from camera,using mtcnn detecting faces,croping and embedding faces with pre-trained facenet and finally face recogition with pre-trained classifier.\n",
    "\n"
   ]
  },
  {
   "cell_type": "code",
   "execution_count": 1,
   "metadata": {},
   "outputs": [
    {
     "name": "stdout",
     "output_type": "stream",
     "text": [
      "Populating the interactive namespace from numpy and matplotlib\n"
     ]
    }
   ],
   "source": [
    "\n",
    "import tensorflow as tf\n",
    "import numpy as np\n",
    "import cv2\n",
    "import matplotlib.pyplot as plt\n",
    "%pylab inline\n",
    "import os\n",
    "from os.path import join as pjoin\n",
    "import sys\n",
    "import copy\n",
    "import detect_face\n",
    "import nn4 as network\n",
    "import random\n",
    "\n",
    "\n",
    "import sklearn\n",
    "\n",
    "from sklearn.externals import joblib"
   ]
  },
  {
   "cell_type": "code",
   "execution_count": 2,
   "metadata": {
    "collapsed": true
   },
   "outputs": [],
   "source": [
    "#face detection parameters\n",
    "minsize = 20 # minimum size of face\n",
    "threshold = [ 0.6, 0.7, 0.7 ]  # three steps's threshold\n",
    "factor = 0.709 # scale factor\n",
    "\n",
    "#facenet embedding parameters\n",
    "\n",
    "model_dir='./model_check_point/model.ckpt-500000'#\"Directory containing the graph definition and checkpoint files.\")\n",
    "model_def= 'models.nn4'  # \"Points to a module containing the definition of the inference graph.\")\n",
    "image_size=96 #\"Image size (height, width) in pixels.\"\n",
    "pool_type='MAX' #\"The type of pooling to use for some of the inception layers {'MAX', 'L2'}.\n",
    "use_lrn=False #\"Enables Local Response Normalization after the first layers of the inception network.\"\n",
    "seed=42,# \"Random seed.\"\n",
    "batch_size= None # \"Number of images to process in a batch.\"\n",
    "\n",
    "\n",
    "\n",
    "\n",
    "frame_interval=3 # frame intervals  "
   ]
  },
  {
   "cell_type": "code",
   "execution_count": 3,
   "metadata": {
    "collapsed": true
   },
   "outputs": [],
   "source": [
    "def to_rgb(img):\n",
    "  w, h = img.shape\n",
    "  ret = np.empty((w, h, 3), dtype=np.uint8)\n",
    "  ret[:, :, 0] = ret[:, :, 1] = ret[:, :, 2] = img\n",
    "  return ret"
   ]
  },
  {
   "cell_type": "code",
   "execution_count": 4,
   "metadata": {},
   "outputs": [
    {
     "name": "stdout",
     "output_type": "stream",
     "text": [
      "Creating networks and loading parameters\n"
     ]
    }
   ],
   "source": [
    "#restore mtcnn model\n",
    "\n",
    "print('Creating networks and loading parameters')\n",
    "gpu_memory_fraction=1.0\n",
    "with tf.Graph().as_default():\n",
    "    gpu_options = tf.GPUOptions(per_process_gpu_memory_fraction=gpu_memory_fraction)\n",
    "    sess = tf.Session(config=tf.ConfigProto(gpu_options=gpu_options, log_device_placement=False))\n",
    "    with sess.as_default():\n",
    "        pnet, rnet, onet = detect_face.create_mtcnn(sess, './model_check_point/')\n",
    "        \n",
    "      "
   ]
  },
  {
   "cell_type": "code",
   "execution_count": 5,
   "metadata": {},
   "outputs": [
    {
     "name": "stdout",
     "output_type": "stream",
     "text": [
      "建立facenet embedding模型\n",
      "name =  incept3a\n",
      "inputSize =  192\n",
      "kernelSize = {3,5}\n",
      "kernelStride = {1,1}\n",
      "outputSize = {128,32}\n",
      "reduceSize = {96,16,32,64}\n",
      "pooling = {MAX, 3, 3, 1, 1}\n",
      "outputSize =  256\n",
      "\n",
      "name =  incept3b\n",
      "inputSize =  256\n",
      "kernelSize = {3,5}\n",
      "kernelStride = {1,1}\n",
      "outputSize = {128,64}\n",
      "reduceSize = {96,32,64,64}\n",
      "pooling = {MAX, 3, 3, 1, 1}\n",
      "outputSize =  320\n",
      "\n",
      "name =  incept3c\n",
      "inputSize =  320\n",
      "kernelSize = {3,5}\n",
      "kernelStride = {2,2}\n",
      "outputSize = {256,64}\n",
      "reduceSize = {128,32,0,0}\n",
      "pooling = {MAX, 3, 3, 2, 2}\n",
      "outputSize =  640\n",
      "\n",
      "name =  incept4a\n",
      "inputSize =  640\n",
      "kernelSize = {3,5}\n",
      "kernelStride = {1,1}\n",
      "outputSize = {192,64}\n",
      "reduceSize = {96,32,128,256}\n",
      "pooling = {MAX, 3, 3, 1, 1}\n",
      "outputSize =  640\n",
      "\n",
      "name =  incept4b\n",
      "inputSize =  640\n",
      "kernelSize = {3,5}\n",
      "kernelStride = {1,1}\n",
      "outputSize = {224,64}\n",
      "reduceSize = {112,32,128,224}\n",
      "pooling = {MAX, 3, 3, 1, 1}\n",
      "outputSize =  640\n",
      "\n",
      "name =  incept4c\n",
      "inputSize =  640\n",
      "kernelSize = {3,5}\n",
      "kernelStride = {1,1}\n",
      "outputSize = {256,64}\n",
      "reduceSize = {128,32,128,192}\n",
      "pooling = {MAX, 3, 3, 1, 1}\n",
      "outputSize =  640\n",
      "\n",
      "name =  incept4d\n",
      "inputSize =  640\n",
      "kernelSize = {3,5}\n",
      "kernelStride = {1,1}\n",
      "outputSize = {288,64}\n",
      "reduceSize = {144,32,128,160}\n",
      "pooling = {MAX, 3, 3, 1, 1}\n",
      "outputSize =  640\n",
      "\n",
      "name =  incept4e\n",
      "inputSize =  640\n",
      "kernelSize = {3,5}\n",
      "kernelStride = {2,2}\n",
      "outputSize = {256,128}\n",
      "reduceSize = {160,64,0,0}\n",
      "pooling = {MAX, 3, 3, 2, 2}\n",
      "outputSize =  1024\n",
      "\n",
      "name =  incept5a\n",
      "inputSize =  1024\n",
      "kernelSize = {3,5}\n",
      "kernelStride = {1,1}\n",
      "outputSize = {384,0}\n",
      "reduceSize = {192,0,128,384}\n",
      "pooling = {MAX, 3, 3, 1, 1}\n",
      "outputSize =  896\n",
      "\n",
      "name =  incept5b\n",
      "inputSize =  896\n",
      "kernelSize = {3,5}\n",
      "kernelStride = {1,1}\n",
      "outputSize = {384,0}\n",
      "reduceSize = {192,0,128,384}\n",
      "pooling = {MAX, 3, 3, 1, 1}\n",
      "outputSize =  896\n",
      "\n",
      "INFO:tensorflow:Restoring parameters from ./model_check_point/model-20160506.ckpt-500000\n"
     ]
    },
    {
     "ename": "NotFoundError",
     "evalue": "Tensor name \"incept4a/in2_conv1x1_21/batch_norm/moments/Squeeze/ExponentialMovingAverage\" not found in checkpoint files ./model_check_point/model-20160506.ckpt-500000\n\t [[Node: save/RestoreV2_124 = RestoreV2[dtypes=[DT_FLOAT], _device=\"/job:localhost/replica:0/task:0/cpu:0\"](_arg_save/Const_0_0, save/RestoreV2_124/tensor_names, save/RestoreV2_124/shape_and_slices)]]\n\nCaused by op u'save/RestoreV2_124', defined at:\n  File \"/usr/lib/python2.7/runpy.py\", line 174, in _run_module_as_main\n    \"__main__\", fname, loader, pkg_name)\n  File \"/usr/lib/python2.7/runpy.py\", line 72, in _run_code\n    exec code in run_globals\n  File \"/home/suraj/.local/lib/python2.7/site-packages/ipykernel_launcher.py\", line 16, in <module>\n    app.launch_new_instance()\n  File \"/home/suraj/.local/lib/python2.7/site-packages/traitlets/config/application.py\", line 658, in launch_instance\n    app.start()\n  File \"/home/suraj/.local/lib/python2.7/site-packages/ipykernel/kernelapp.py\", line 477, in start\n    ioloop.IOLoop.instance().start()\n  File \"/home/suraj/.local/lib/python2.7/site-packages/zmq/eventloop/ioloop.py\", line 177, in start\n    super(ZMQIOLoop, self).start()\n  File \"/home/suraj/.local/lib/python2.7/site-packages/tornado/ioloop.py\", line 888, in start\n    handler_func(fd_obj, events)\n  File \"/home/suraj/.local/lib/python2.7/site-packages/tornado/stack_context.py\", line 277, in null_wrapper\n    return fn(*args, **kwargs)\n  File \"/home/suraj/.local/lib/python2.7/site-packages/zmq/eventloop/zmqstream.py\", line 440, in _handle_events\n    self._handle_recv()\n  File \"/home/suraj/.local/lib/python2.7/site-packages/zmq/eventloop/zmqstream.py\", line 472, in _handle_recv\n    self._run_callback(callback, msg)\n  File \"/home/suraj/.local/lib/python2.7/site-packages/zmq/eventloop/zmqstream.py\", line 414, in _run_callback\n    callback(*args, **kwargs)\n  File \"/home/suraj/.local/lib/python2.7/site-packages/tornado/stack_context.py\", line 277, in null_wrapper\n    return fn(*args, **kwargs)\n  File \"/home/suraj/.local/lib/python2.7/site-packages/ipykernel/kernelbase.py\", line 283, in dispatcher\n    return self.dispatch_shell(stream, msg)\n  File \"/home/suraj/.local/lib/python2.7/site-packages/ipykernel/kernelbase.py\", line 235, in dispatch_shell\n    handler(stream, idents, msg)\n  File \"/home/suraj/.local/lib/python2.7/site-packages/ipykernel/kernelbase.py\", line 399, in execute_request\n    user_expressions, allow_stdin)\n  File \"/home/suraj/.local/lib/python2.7/site-packages/ipykernel/ipkernel.py\", line 196, in do_execute\n    res = shell.run_cell(code, store_history=store_history, silent=silent)\n  File \"/home/suraj/.local/lib/python2.7/site-packages/ipykernel/zmqshell.py\", line 533, in run_cell\n    return super(ZMQInteractiveShell, self).run_cell(*args, **kwargs)\n  File \"/home/suraj/.local/lib/python2.7/site-packages/IPython/core/interactiveshell.py\", line 2717, in run_cell\n    interactivity=interactivity, compiler=compiler, result=result)\n  File \"/home/suraj/.local/lib/python2.7/site-packages/IPython/core/interactiveshell.py\", line 2821, in run_ast_nodes\n    if self.run_code(code, result):\n  File \"/home/suraj/.local/lib/python2.7/site-packages/IPython/core/interactiveshell.py\", line 2881, in run_code\n    exec(code_obj, self.user_global_ns, self.user_ns)\n  File \"<ipython-input-5-82f06b3da36c>\", line 21, in <module>\n    saver = tf.train.Saver(ema.variables_to_restore())\n  File \"/home/suraj/.local/lib/python2.7/site-packages/tensorflow/python/training/saver.py\", line 1140, in __init__\n    self.build()\n  File \"/home/suraj/.local/lib/python2.7/site-packages/tensorflow/python/training/saver.py\", line 1172, in build\n    filename=self._filename)\n  File \"/home/suraj/.local/lib/python2.7/site-packages/tensorflow/python/training/saver.py\", line 688, in build\n    restore_sequentially, reshape)\n  File \"/home/suraj/.local/lib/python2.7/site-packages/tensorflow/python/training/saver.py\", line 407, in _AddRestoreOps\n    tensors = self.restore_op(filename_tensor, saveable, preferred_shard)\n  File \"/home/suraj/.local/lib/python2.7/site-packages/tensorflow/python/training/saver.py\", line 247, in restore_op\n    [spec.tensor.dtype])[0])\n  File \"/home/suraj/.local/lib/python2.7/site-packages/tensorflow/python/ops/gen_io_ops.py\", line 663, in restore_v2\n    dtypes=dtypes, name=name)\n  File \"/home/suraj/.local/lib/python2.7/site-packages/tensorflow/python/framework/op_def_library.py\", line 767, in apply_op\n    op_def=op_def)\n  File \"/home/suraj/.local/lib/python2.7/site-packages/tensorflow/python/framework/ops.py\", line 2630, in create_op\n    original_op=self._default_original_op, op_def=op_def)\n  File \"/home/suraj/.local/lib/python2.7/site-packages/tensorflow/python/framework/ops.py\", line 1204, in __init__\n    self._traceback = self._graph._extract_stack()  # pylint: disable=protected-access\n\nNotFoundError (see above for traceback): Tensor name \"incept4a/in2_conv1x1_21/batch_norm/moments/Squeeze/ExponentialMovingAverage\" not found in checkpoint files ./model_check_point/model-20160506.ckpt-500000\n\t [[Node: save/RestoreV2_124 = RestoreV2[dtypes=[DT_FLOAT], _device=\"/job:localhost/replica:0/task:0/cpu:0\"](_arg_save/Const_0_0, save/RestoreV2_124/tensor_names, save/RestoreV2_124/shape_and_slices)]]\n",
     "output_type": "error",
     "traceback": [
      "\u001b[0;31m---------------------------------------------------------------------------\u001b[0m",
      "\u001b[0;31mNotFoundError\u001b[0m                             Traceback (most recent call last)",
      "\u001b[0;32m<ipython-input-5-82f06b3da36c>\u001b[0m in \u001b[0;36m<module>\u001b[0;34m()\u001b[0m\n\u001b[1;32m     29\u001b[0m \u001b[0;34m\u001b[0m\u001b[0m\n\u001b[1;32m     30\u001b[0m \u001b[0;31m#saver.restore(sess, ckpt.model_checkpoint_path)\u001b[0m\u001b[0;34m\u001b[0m\u001b[0;34m\u001b[0m\u001b[0m\n\u001b[0;32m---> 31\u001b[0;31m \u001b[0msaver\u001b[0m\u001b[0;34m.\u001b[0m\u001b[0mrestore\u001b[0m\u001b[0;34m(\u001b[0m\u001b[0msess\u001b[0m\u001b[0;34m,\u001b[0m \u001b[0mmodel_checkpoint_path\u001b[0m\u001b[0;34m)\u001b[0m\u001b[0;34m\u001b[0m\u001b[0m\n\u001b[0m\u001b[1;32m     32\u001b[0m \u001b[0;32mprint\u001b[0m\u001b[0;34m(\u001b[0m\u001b[0;34m'facenet embedding模型建立完毕'\u001b[0m\u001b[0;34m)\u001b[0m\u001b[0;34m\u001b[0m\u001b[0m\n",
      "\u001b[0;32m/home/suraj/.local/lib/python2.7/site-packages/tensorflow/python/training/saver.pyc\u001b[0m in \u001b[0;36mrestore\u001b[0;34m(self, sess, save_path)\u001b[0m\n\u001b[1;32m   1558\u001b[0m     \u001b[0mlogging\u001b[0m\u001b[0;34m.\u001b[0m\u001b[0minfo\u001b[0m\u001b[0;34m(\u001b[0m\u001b[0;34m\"Restoring parameters from %s\"\u001b[0m\u001b[0;34m,\u001b[0m \u001b[0msave_path\u001b[0m\u001b[0;34m)\u001b[0m\u001b[0;34m\u001b[0m\u001b[0m\n\u001b[1;32m   1559\u001b[0m     sess.run(self.saver_def.restore_op_name,\n\u001b[0;32m-> 1560\u001b[0;31m              {self.saver_def.filename_tensor_name: save_path})\n\u001b[0m\u001b[1;32m   1561\u001b[0m \u001b[0;34m\u001b[0m\u001b[0m\n\u001b[1;32m   1562\u001b[0m   \u001b[0;34m@\u001b[0m\u001b[0mstaticmethod\u001b[0m\u001b[0;34m\u001b[0m\u001b[0m\n",
      "\u001b[0;32m/home/suraj/.local/lib/python2.7/site-packages/tensorflow/python/client/session.pyc\u001b[0m in \u001b[0;36mrun\u001b[0;34m(self, fetches, feed_dict, options, run_metadata)\u001b[0m\n\u001b[1;32m    893\u001b[0m     \u001b[0;32mtry\u001b[0m\u001b[0;34m:\u001b[0m\u001b[0;34m\u001b[0m\u001b[0m\n\u001b[1;32m    894\u001b[0m       result = self._run(None, fetches, feed_dict, options_ptr,\n\u001b[0;32m--> 895\u001b[0;31m                          run_metadata_ptr)\n\u001b[0m\u001b[1;32m    896\u001b[0m       \u001b[0;32mif\u001b[0m \u001b[0mrun_metadata\u001b[0m\u001b[0;34m:\u001b[0m\u001b[0;34m\u001b[0m\u001b[0m\n\u001b[1;32m    897\u001b[0m         \u001b[0mproto_data\u001b[0m \u001b[0;34m=\u001b[0m \u001b[0mtf_session\u001b[0m\u001b[0;34m.\u001b[0m\u001b[0mTF_GetBuffer\u001b[0m\u001b[0;34m(\u001b[0m\u001b[0mrun_metadata_ptr\u001b[0m\u001b[0;34m)\u001b[0m\u001b[0;34m\u001b[0m\u001b[0m\n",
      "\u001b[0;32m/home/suraj/.local/lib/python2.7/site-packages/tensorflow/python/client/session.pyc\u001b[0m in \u001b[0;36m_run\u001b[0;34m(self, handle, fetches, feed_dict, options, run_metadata)\u001b[0m\n\u001b[1;32m   1122\u001b[0m     \u001b[0;32mif\u001b[0m \u001b[0mfinal_fetches\u001b[0m \u001b[0;32mor\u001b[0m \u001b[0mfinal_targets\u001b[0m \u001b[0;32mor\u001b[0m \u001b[0;34m(\u001b[0m\u001b[0mhandle\u001b[0m \u001b[0;32mand\u001b[0m \u001b[0mfeed_dict_tensor\u001b[0m\u001b[0;34m)\u001b[0m\u001b[0;34m:\u001b[0m\u001b[0;34m\u001b[0m\u001b[0m\n\u001b[1;32m   1123\u001b[0m       results = self._do_run(handle, final_targets, final_fetches,\n\u001b[0;32m-> 1124\u001b[0;31m                              feed_dict_tensor, options, run_metadata)\n\u001b[0m\u001b[1;32m   1125\u001b[0m     \u001b[0;32melse\u001b[0m\u001b[0;34m:\u001b[0m\u001b[0;34m\u001b[0m\u001b[0m\n\u001b[1;32m   1126\u001b[0m       \u001b[0mresults\u001b[0m \u001b[0;34m=\u001b[0m \u001b[0;34m[\u001b[0m\u001b[0;34m]\u001b[0m\u001b[0;34m\u001b[0m\u001b[0m\n",
      "\u001b[0;32m/home/suraj/.local/lib/python2.7/site-packages/tensorflow/python/client/session.pyc\u001b[0m in \u001b[0;36m_do_run\u001b[0;34m(self, handle, target_list, fetch_list, feed_dict, options, run_metadata)\u001b[0m\n\u001b[1;32m   1319\u001b[0m     \u001b[0;32mif\u001b[0m \u001b[0mhandle\u001b[0m \u001b[0;32mis\u001b[0m \u001b[0mNone\u001b[0m\u001b[0;34m:\u001b[0m\u001b[0;34m\u001b[0m\u001b[0m\n\u001b[1;32m   1320\u001b[0m       return self._do_call(_run_fn, self._session, feeds, fetches, targets,\n\u001b[0;32m-> 1321\u001b[0;31m                            options, run_metadata)\n\u001b[0m\u001b[1;32m   1322\u001b[0m     \u001b[0;32melse\u001b[0m\u001b[0;34m:\u001b[0m\u001b[0;34m\u001b[0m\u001b[0m\n\u001b[1;32m   1323\u001b[0m       \u001b[0;32mreturn\u001b[0m \u001b[0mself\u001b[0m\u001b[0;34m.\u001b[0m\u001b[0m_do_call\u001b[0m\u001b[0;34m(\u001b[0m\u001b[0m_prun_fn\u001b[0m\u001b[0;34m,\u001b[0m \u001b[0mself\u001b[0m\u001b[0;34m.\u001b[0m\u001b[0m_session\u001b[0m\u001b[0;34m,\u001b[0m \u001b[0mhandle\u001b[0m\u001b[0;34m,\u001b[0m \u001b[0mfeeds\u001b[0m\u001b[0;34m,\u001b[0m \u001b[0mfetches\u001b[0m\u001b[0;34m)\u001b[0m\u001b[0;34m\u001b[0m\u001b[0m\n",
      "\u001b[0;32m/home/suraj/.local/lib/python2.7/site-packages/tensorflow/python/client/session.pyc\u001b[0m in \u001b[0;36m_do_call\u001b[0;34m(self, fn, *args)\u001b[0m\n\u001b[1;32m   1338\u001b[0m         \u001b[0;32mexcept\u001b[0m \u001b[0mKeyError\u001b[0m\u001b[0;34m:\u001b[0m\u001b[0;34m\u001b[0m\u001b[0m\n\u001b[1;32m   1339\u001b[0m           \u001b[0;32mpass\u001b[0m\u001b[0;34m\u001b[0m\u001b[0m\n\u001b[0;32m-> 1340\u001b[0;31m       \u001b[0;32mraise\u001b[0m \u001b[0mtype\u001b[0m\u001b[0;34m(\u001b[0m\u001b[0me\u001b[0m\u001b[0;34m)\u001b[0m\u001b[0;34m(\u001b[0m\u001b[0mnode_def\u001b[0m\u001b[0;34m,\u001b[0m \u001b[0mop\u001b[0m\u001b[0;34m,\u001b[0m \u001b[0mmessage\u001b[0m\u001b[0;34m)\u001b[0m\u001b[0;34m\u001b[0m\u001b[0m\n\u001b[0m\u001b[1;32m   1341\u001b[0m \u001b[0;34m\u001b[0m\u001b[0m\n\u001b[1;32m   1342\u001b[0m   \u001b[0;32mdef\u001b[0m \u001b[0m_extend_graph\u001b[0m\u001b[0;34m(\u001b[0m\u001b[0mself\u001b[0m\u001b[0;34m)\u001b[0m\u001b[0;34m:\u001b[0m\u001b[0;34m\u001b[0m\u001b[0m\n",
      "\u001b[0;31mNotFoundError\u001b[0m: Tensor name \"incept4a/in2_conv1x1_21/batch_norm/moments/Squeeze/ExponentialMovingAverage\" not found in checkpoint files ./model_check_point/model-20160506.ckpt-500000\n\t [[Node: save/RestoreV2_124 = RestoreV2[dtypes=[DT_FLOAT], _device=\"/job:localhost/replica:0/task:0/cpu:0\"](_arg_save/Const_0_0, save/RestoreV2_124/tensor_names, save/RestoreV2_124/shape_and_slices)]]\n\nCaused by op u'save/RestoreV2_124', defined at:\n  File \"/usr/lib/python2.7/runpy.py\", line 174, in _run_module_as_main\n    \"__main__\", fname, loader, pkg_name)\n  File \"/usr/lib/python2.7/runpy.py\", line 72, in _run_code\n    exec code in run_globals\n  File \"/home/suraj/.local/lib/python2.7/site-packages/ipykernel_launcher.py\", line 16, in <module>\n    app.launch_new_instance()\n  File \"/home/suraj/.local/lib/python2.7/site-packages/traitlets/config/application.py\", line 658, in launch_instance\n    app.start()\n  File \"/home/suraj/.local/lib/python2.7/site-packages/ipykernel/kernelapp.py\", line 477, in start\n    ioloop.IOLoop.instance().start()\n  File \"/home/suraj/.local/lib/python2.7/site-packages/zmq/eventloop/ioloop.py\", line 177, in start\n    super(ZMQIOLoop, self).start()\n  File \"/home/suraj/.local/lib/python2.7/site-packages/tornado/ioloop.py\", line 888, in start\n    handler_func(fd_obj, events)\n  File \"/home/suraj/.local/lib/python2.7/site-packages/tornado/stack_context.py\", line 277, in null_wrapper\n    return fn(*args, **kwargs)\n  File \"/home/suraj/.local/lib/python2.7/site-packages/zmq/eventloop/zmqstream.py\", line 440, in _handle_events\n    self._handle_recv()\n  File \"/home/suraj/.local/lib/python2.7/site-packages/zmq/eventloop/zmqstream.py\", line 472, in _handle_recv\n    self._run_callback(callback, msg)\n  File \"/home/suraj/.local/lib/python2.7/site-packages/zmq/eventloop/zmqstream.py\", line 414, in _run_callback\n    callback(*args, **kwargs)\n  File \"/home/suraj/.local/lib/python2.7/site-packages/tornado/stack_context.py\", line 277, in null_wrapper\n    return fn(*args, **kwargs)\n  File \"/home/suraj/.local/lib/python2.7/site-packages/ipykernel/kernelbase.py\", line 283, in dispatcher\n    return self.dispatch_shell(stream, msg)\n  File \"/home/suraj/.local/lib/python2.7/site-packages/ipykernel/kernelbase.py\", line 235, in dispatch_shell\n    handler(stream, idents, msg)\n  File \"/home/suraj/.local/lib/python2.7/site-packages/ipykernel/kernelbase.py\", line 399, in execute_request\n    user_expressions, allow_stdin)\n  File \"/home/suraj/.local/lib/python2.7/site-packages/ipykernel/ipkernel.py\", line 196, in do_execute\n    res = shell.run_cell(code, store_history=store_history, silent=silent)\n  File \"/home/suraj/.local/lib/python2.7/site-packages/ipykernel/zmqshell.py\", line 533, in run_cell\n    return super(ZMQInteractiveShell, self).run_cell(*args, **kwargs)\n  File \"/home/suraj/.local/lib/python2.7/site-packages/IPython/core/interactiveshell.py\", line 2717, in run_cell\n    interactivity=interactivity, compiler=compiler, result=result)\n  File \"/home/suraj/.local/lib/python2.7/site-packages/IPython/core/interactiveshell.py\", line 2821, in run_ast_nodes\n    if self.run_code(code, result):\n  File \"/home/suraj/.local/lib/python2.7/site-packages/IPython/core/interactiveshell.py\", line 2881, in run_code\n    exec(code_obj, self.user_global_ns, self.user_ns)\n  File \"<ipython-input-5-82f06b3da36c>\", line 21, in <module>\n    saver = tf.train.Saver(ema.variables_to_restore())\n  File \"/home/suraj/.local/lib/python2.7/site-packages/tensorflow/python/training/saver.py\", line 1140, in __init__\n    self.build()\n  File \"/home/suraj/.local/lib/python2.7/site-packages/tensorflow/python/training/saver.py\", line 1172, in build\n    filename=self._filename)\n  File \"/home/suraj/.local/lib/python2.7/site-packages/tensorflow/python/training/saver.py\", line 688, in build\n    restore_sequentially, reshape)\n  File \"/home/suraj/.local/lib/python2.7/site-packages/tensorflow/python/training/saver.py\", line 407, in _AddRestoreOps\n    tensors = self.restore_op(filename_tensor, saveable, preferred_shard)\n  File \"/home/suraj/.local/lib/python2.7/site-packages/tensorflow/python/training/saver.py\", line 247, in restore_op\n    [spec.tensor.dtype])[0])\n  File \"/home/suraj/.local/lib/python2.7/site-packages/tensorflow/python/ops/gen_io_ops.py\", line 663, in restore_v2\n    dtypes=dtypes, name=name)\n  File \"/home/suraj/.local/lib/python2.7/site-packages/tensorflow/python/framework/op_def_library.py\", line 767, in apply_op\n    op_def=op_def)\n  File \"/home/suraj/.local/lib/python2.7/site-packages/tensorflow/python/framework/ops.py\", line 2630, in create_op\n    original_op=self._default_original_op, op_def=op_def)\n  File \"/home/suraj/.local/lib/python2.7/site-packages/tensorflow/python/framework/ops.py\", line 1204, in __init__\n    self._traceback = self._graph._extract_stack()  # pylint: disable=protected-access\n\nNotFoundError (see above for traceback): Tensor name \"incept4a/in2_conv1x1_21/batch_norm/moments/Squeeze/ExponentialMovingAverage\" not found in checkpoint files ./model_check_point/model-20160506.ckpt-500000\n\t [[Node: save/RestoreV2_124 = RestoreV2[dtypes=[DT_FLOAT], _device=\"/job:localhost/replica:0/task:0/cpu:0\"](_arg_save/Const_0_0, save/RestoreV2_124/tensor_names, save/RestoreV2_124/shape_and_slices)]]\n"
     ]
    }
   ],
   "source": [
    "#restore facenet model\n",
    "print('建立facenet embedding模型')\n",
    "tf.Graph().as_default()\n",
    "sess = tf.Session()\n",
    "images_placeholder = tf.placeholder(tf.float32, shape=(batch_size, \n",
    "                                                       image_size, \n",
    "                                                       image_size, 3), name='input')\n",
    "\n",
    "phase_train_placeholder = tf.placeholder(tf.bool, name='phase_train')\n",
    "\n",
    "\n",
    "\n",
    "embeddings = network.inference(images_placeholder, pool_type, \n",
    "                               use_lrn, \n",
    "                               1.0, \n",
    "                               phase_train=phase_train_placeholder)\n",
    "\n",
    "\n",
    "\n",
    "ema = tf.train.ExponentialMovingAverage(1.0)\n",
    "saver = tf.train.Saver(ema.variables_to_restore())\n",
    "#ckpt = tf.train.get_checkpoint_state(os.path.expanduser(model_dir))\n",
    "#saver.restore(sess, ckpt.model_checkpoint_path)\n",
    "\n",
    "model_checkpoint_path='./model_check_point/model-20160506.ckpt-500000'\n",
    "#ckpt = tf.train.get_checkpoint_state(os.path.expanduser(model_dir))\n",
    "#model_checkpoint_path='model-20160506.ckpt-500000'\n",
    "\n",
    "\n",
    "#saver.restore(sess, ckpt.model_checkpoint_path)\n",
    "saver.restore(sess, model_checkpoint_path)\n",
    "print('facenet embedding模型建立完毕')"
   ]
  },
  {
   "cell_type": "code",
   "execution_count": 6,
   "metadata": {
    "collapsed": true
   },
   "outputs": [],
   "source": [
    "#restore pre-trained knn classifier\n",
    "model = joblib.load('./model_check_point/knn_classifier.model')"
   ]
  },
  {
   "cell_type": "markdown",
   "metadata": {},
   "source": [
    "# real time face detection and recognition"
   ]
  },
  {
   "cell_type": "code",
   "execution_count": 7,
   "metadata": {
    "collapsed": true
   },
   "outputs": [],
   "source": [
    "#obtaining frames from camera--->converting to gray--->converting to rgb\n",
    "#--->detecting faces---->croping faces--->embedding--->classifying--->print\n",
    "\n",
    "\n",
    "video_capture = cv2.VideoCapture(0)\n",
    "c=0\n",
    " \n",
    "while True:\n",
    "    # Capture frame-by-frame\n",
    "\n",
    "    ret, frame = video_capture.read()\n",
    "    #gray = cv2.cvtColor(frame, cv2.COLOR_BGR2GRAY)\n",
    "    #print(frame.shape)\n",
    "    \n",
    "    timeF = frame_interval\n",
    "    \n",
    "    \n",
    "    if(c%timeF == 0): #frame_interval==3, face detection every 3 frames\n",
    "        \n",
    "        find_results=[]\n",
    "        gray = cv2.cvtColor(frame, cv2.COLOR_BGR2GRAY)\n",
    "        \n",
    "        \n",
    "        if gray.ndim == 2:\n",
    "            img = to_rgb(gray)\n",
    "        \n",
    "            \n",
    "\n",
    "        bounding_boxes, _ = detect_face.detect_face(img, minsize, pnet, rnet, onet, threshold, factor)\n",
    "\n",
    "        \n",
    "        \n",
    "        nrof_faces = bounding_boxes.shape[0]#number of faces\n",
    "        #print('找到人脸数目为：{}'.format(nrof_faces))\n",
    "        \n",
    "\n",
    "        for face_position in bounding_boxes:\n",
    "            \n",
    "            face_position=face_position.astype(int)\n",
    "            \n",
    "            #print((int(face_position[0]), int( face_position[1])))\n",
    "            #word_position.append((int(face_position[0]), int( face_position[1])))\n",
    "           \n",
    "            cv2.rectangle(frame, (face_position[0], \n",
    "                            face_position[1]), \n",
    "                      (face_position[2], face_position[3]), \n",
    "                      (0, 255, 0), 2)\n",
    "            \n",
    "            crop=img[face_position[1]:face_position[3],face_position[0]:face_position[2],]\n",
    "    \n",
    "            crop = cv2.resize(crop, (96, 96), interpolation=cv2.INTER_CUBIC )\n",
    "        \n",
    "            data=crop.reshape(-1,96,96,3)\n",
    "        \n",
    "            emb_data = sess.run([embeddings], \n",
    "                                feed_dict={images_placeholder: np.array(data), \n",
    "                                           phase_train_placeholder: False })[0]\n",
    "            \n",
    "            predict = model.predict(emb_data) \n",
    "         \n",
    "       \n",
    "            if predict==1:\n",
    "                find_results.append('me')\n",
    "            elif predict==2:\n",
    "                find_results.append('others')\n",
    "\n",
    "        \n",
    "    \n",
    " \n",
    "        cv2.putText(frame,'detected:{}'.format(find_results), (50,100), \n",
    "                cv2.FONT_HERSHEY_COMPLEX_SMALL, 2, (255, 0 ,0), \n",
    "                thickness = 2, lineType = 2)\n",
    "  \n",
    "            \n",
    "    #print(faces)\n",
    "    c+=1\n",
    "    # Draw a rectangle around the faces\n",
    "    \n",
    "\n",
    "\n",
    "    # Display the resulting frame\n",
    "\n",
    "    cv2.imshow('Video', frame)\n",
    "\n",
    "    if cv2.waitKey(1) & 0xFF == ord('q'):\n",
    "        break\n",
    "    \n",
    "\n",
    "\n",
    "# When everything is done, release the capture\n",
    "\n",
    "video_capture.release()\n",
    "cv2.destroyAllWindows()\n"
   ]
  },
  {
   "cell_type": "code",
   "execution_count": null,
   "metadata": {
    "collapsed": true
   },
   "outputs": [],
   "source": []
  },
  {
   "cell_type": "code",
   "execution_count": null,
   "metadata": {
    "collapsed": true
   },
   "outputs": [],
   "source": []
  }
 ],
 "metadata": {
  "kernelspec": {
   "display_name": "Python 2",
   "language": "python",
   "name": "python2"
  },
  "language_info": {
   "codemirror_mode": {
    "name": "ipython",
    "version": 2
   },
   "file_extension": ".py",
   "mimetype": "text/x-python",
   "name": "python",
   "nbconvert_exporter": "python",
   "pygments_lexer": "ipython2",
   "version": "2.7.12"
  }
 },
 "nbformat": 4,
 "nbformat_minor": 1
}
